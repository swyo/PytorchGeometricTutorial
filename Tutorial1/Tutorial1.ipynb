{
 "cells": [
  {
   "cell_type": "code",
   "execution_count": 1,
   "metadata": {
    "execution": {
     "iopub.execute_input": "2021-10-15T05:18:32.650781Z",
     "iopub.status.busy": "2021-10-15T05:18:32.650545Z",
     "iopub.status.idle": "2021-10-15T05:18:32.655427Z",
     "shell.execute_reply": "2021-10-15T05:18:32.654727Z",
     "shell.execute_reply.started": "2021-10-15T05:18:32.650719Z"
    }
   },
   "outputs": [],
   "source": [
    "# !pip install torch-scatter -f https://data.pyg.org/whl/torch-1.9.0+cu111.html\n",
    "# !pip install torch-sparse -f https://data.pyg.org/whl/torch-1.9.0+cu111.html\n",
    "# !pip install torch-geometric"
   ]
  },
  {
   "cell_type": "code",
   "execution_count": 2,
   "metadata": {
    "execution": {
     "iopub.execute_input": "2021-10-15T05:18:32.657571Z",
     "iopub.status.busy": "2021-10-15T05:18:32.657319Z",
     "iopub.status.idle": "2021-10-15T05:18:33.600856Z",
     "shell.execute_reply": "2021-10-15T05:18:33.600480Z",
     "shell.execute_reply.started": "2021-10-15T05:18:32.657549Z"
    }
   },
   "outputs": [],
   "source": [
    "import numpy as np\n",
    "import torch_geometric\n",
    "from torch_geometric.datasets import Planetoid"
   ]
  },
  {
   "cell_type": "code",
   "execution_count": 3,
   "metadata": {
    "execution": {
     "iopub.execute_input": "2021-10-15T05:18:33.601920Z",
     "iopub.status.busy": "2021-10-15T05:18:33.601825Z",
     "iopub.status.idle": "2021-10-15T05:18:33.603803Z",
     "shell.execute_reply": "2021-10-15T05:18:33.603494Z",
     "shell.execute_reply.started": "2021-10-15T05:18:33.601908Z"
    }
   },
   "outputs": [],
   "source": [
    "use_cuda_if_available = False"
   ]
  },
  {
   "cell_type": "markdown",
   "metadata": {},
   "source": [
    "# Load the dataset"
   ]
  },
  {
   "cell_type": "code",
   "execution_count": 4,
   "metadata": {
    "execution": {
     "iopub.execute_input": "2021-10-15T05:18:33.804678Z",
     "iopub.status.busy": "2021-10-15T05:18:33.803979Z",
     "iopub.status.idle": "2021-10-15T05:18:33.827887Z",
     "shell.execute_reply": "2021-10-15T05:18:33.826993Z",
     "shell.execute_reply.started": "2021-10-15T05:18:33.804580Z"
    }
   },
   "outputs": [],
   "source": [
    "dataset = Planetoid(root=\"tutorial1\",name= \"Cora\")"
   ]
  },
  {
   "cell_type": "markdown",
   "metadata": {},
   "source": [
    "##### Dataset properties"
   ]
  },
  {
   "cell_type": "code",
   "execution_count": 5,
   "metadata": {
    "execution": {
     "iopub.execute_input": "2021-10-15T05:18:33.832059Z",
     "iopub.status.busy": "2021-10-15T05:18:33.831596Z",
     "iopub.status.idle": "2021-10-15T05:18:33.847628Z",
     "shell.execute_reply": "2021-10-15T05:18:33.846892Z",
     "shell.execute_reply.started": "2021-10-15T05:18:33.831981Z"
    }
   },
   "outputs": [
    {
     "name": "stdout",
     "output_type": "stream",
     "text": [
      "Cora()\n",
      "number of graphs:\t\t 1\n",
      "number of classes:\t\t 7\n",
      "number of node features:\t 1433\n",
      "number of edge features:\t 0\n",
      "number of the (first) graph's nodes:\t 2708\n"
     ]
    }
   ],
   "source": [
    "print(dataset)\n",
    "print(\"number of graphs:\\t\\t\",len(dataset))\n",
    "print(\"number of classes:\\t\\t\",dataset.num_classes)\n",
    "print(\"number of node features:\\t\",dataset.num_node_features)\n",
    "print(\"number of edge features:\\t\",dataset.num_edge_features)\n",
    "print(\"number of the (first) graph's nodes:\\t\",dataset[0].num_nodes)"
   ]
  },
  {
   "cell_type": "markdown",
   "metadata": {},
   "source": [
    "##### Dataset shapes"
   ]
  },
  {
   "cell_type": "code",
   "execution_count": 6,
   "metadata": {
    "execution": {
     "iopub.execute_input": "2021-10-15T05:18:33.851373Z",
     "iopub.status.busy": "2021-10-15T05:18:33.850912Z",
     "iopub.status.idle": "2021-10-15T05:18:33.858755Z",
     "shell.execute_reply": "2021-10-15T05:18:33.856590Z",
     "shell.execute_reply.started": "2021-10-15T05:18:33.851305Z"
    }
   },
   "outputs": [
    {
     "name": "stdout",
     "output_type": "stream",
     "text": [
      "Data(x=[2708, 1433], edge_index=[2, 10556], y=[2708], train_mask=[2708], val_mask=[2708], test_mask=[2708])\n"
     ]
    }
   ],
   "source": [
    "print(dataset.data)"
   ]
  },
  {
   "cell_type": "code",
   "execution_count": 7,
   "metadata": {
    "execution": {
     "iopub.execute_input": "2021-10-15T05:18:33.861082Z",
     "iopub.status.busy": "2021-10-15T05:18:33.860769Z",
     "iopub.status.idle": "2021-10-15T05:18:33.882202Z",
     "shell.execute_reply": "2021-10-15T05:18:33.880570Z",
     "shell.execute_reply.started": "2021-10-15T05:18:33.861024Z"
    }
   },
   "outputs": [
    {
     "name": "stdout",
     "output_type": "stream",
     "text": [
      "edge_index:\t\t torch.Size([2, 10556])\n",
      "tensor([[   0,    0,    0,  ..., 2707, 2707, 2707],\n",
      "        [ 633, 1862, 2582,  ...,  598, 1473, 2706]])\n",
      "\n",
      "\n",
      "train_mask:\t\t torch.Size([2708])\n",
      "tensor([ True,  True,  True,  ..., False, False, False])\n",
      "\n",
      "\n",
      "x:\t\t torch.Size([2708, 1433])\n",
      "tensor([[0., 0., 0.,  ..., 0., 0., 0.],\n",
      "        [0., 0., 0.,  ..., 0., 0., 0.],\n",
      "        [0., 0., 0.,  ..., 0., 0., 0.],\n",
      "        ...,\n",
      "        [0., 0., 0.,  ..., 0., 0., 0.],\n",
      "        [0., 0., 0.,  ..., 0., 0., 0.],\n",
      "        [0., 0., 0.,  ..., 0., 0., 0.]])\n",
      "\n",
      "\n",
      "y:\t\t torch.Size([2708])\n",
      "tensor([3, 4, 4,  ..., 3, 3, 3])\n"
     ]
    }
   ],
   "source": [
    "print(\"edge_index:\\t\\t\",dataset.data.edge_index.shape)\n",
    "print(dataset.data.edge_index)\n",
    "print(\"\\n\")\n",
    "print(\"train_mask:\\t\\t\",dataset.data.train_mask.shape)\n",
    "print(dataset.data.train_mask)\n",
    "print(\"\\n\")\n",
    "print(\"x:\\t\\t\",dataset.data.x.shape)\n",
    "print(dataset.data.x)\n",
    "print(\"\\n\")\n",
    "print(\"y:\\t\\t\",dataset.data.y.shape)\n",
    "print(dataset.data.y)"
   ]
  },
  {
   "cell_type": "code",
   "execution_count": 8,
   "metadata": {
    "execution": {
     "iopub.execute_input": "2021-10-15T05:18:33.884153Z",
     "iopub.status.busy": "2021-10-15T05:18:33.883573Z",
     "iopub.status.idle": "2021-10-15T05:18:34.034519Z",
     "shell.execute_reply": "2021-10-15T05:18:34.034086Z",
     "shell.execute_reply.started": "2021-10-15T05:18:33.884107Z"
    }
   },
   "outputs": [],
   "source": [
    "import os.path as osp\n",
    "\n",
    "import torch\n",
    "import torch.nn.functional as F\n",
    "from torch_geometric.nn import SAGEConv"
   ]
  },
  {
   "cell_type": "code",
   "execution_count": 9,
   "metadata": {
    "execution": {
     "iopub.execute_input": "2021-10-15T05:18:34.035560Z",
     "iopub.status.busy": "2021-10-15T05:18:34.035376Z",
     "iopub.status.idle": "2021-10-15T05:18:34.038534Z",
     "shell.execute_reply": "2021-10-15T05:18:34.037933Z",
     "shell.execute_reply.started": "2021-10-15T05:18:34.035529Z"
    }
   },
   "outputs": [],
   "source": [
    "data = dataset[0]"
   ]
  },
  {
   "cell_type": "code",
   "execution_count": 10,
   "metadata": {
    "execution": {
     "iopub.execute_input": "2021-10-15T05:18:34.039587Z",
     "iopub.status.busy": "2021-10-15T05:18:34.039381Z",
     "iopub.status.idle": "2021-10-15T05:18:34.044780Z",
     "shell.execute_reply": "2021-10-15T05:18:34.044337Z",
     "shell.execute_reply.started": "2021-10-15T05:18:34.039558Z"
    }
   },
   "outputs": [],
   "source": [
    "class Net(torch.nn.Module):\n",
    "    def __init__(self):\n",
    "        super(Net, self).__init__()\n",
    "        \n",
    "        self.conv = SAGEConv(in_channels=dataset.num_features,\n",
    "                             out_channels=dataset.num_classes,\n",
    "                             aggr=\"max\") # max, mean, add ...)\n",
    "\n",
    "    def forward(self):\n",
    "        x = self.conv(data.x, data.edge_index)\n",
    "        return F.log_softmax(x, dim=1)"
   ]
  },
  {
   "cell_type": "code",
   "execution_count": 11,
   "metadata": {
    "execution": {
     "iopub.execute_input": "2021-10-15T05:18:34.048094Z",
     "iopub.status.busy": "2021-10-15T05:18:34.047877Z",
     "iopub.status.idle": "2021-10-15T05:18:34.054354Z",
     "shell.execute_reply": "2021-10-15T05:18:34.053894Z",
     "shell.execute_reply.started": "2021-10-15T05:18:34.048064Z"
    },
    "scrolled": true
   },
   "outputs": [],
   "source": [
    "device = torch.device('cuda' if torch.cuda.is_available() and use_cuda_if_available else 'cpu')\n",
    "model, data = Net().to(device), data.to(device)\n",
    "optimizer = torch.optim.Adam(model.parameters(), lr=0.01, weight_decay=5e-4)"
   ]
  },
  {
   "cell_type": "code",
   "execution_count": 12,
   "metadata": {
    "execution": {
     "iopub.execute_input": "2021-10-15T05:18:34.055500Z",
     "iopub.status.busy": "2021-10-15T05:18:34.055149Z",
     "iopub.status.idle": "2021-10-15T05:18:34.069298Z",
     "shell.execute_reply": "2021-10-15T05:18:34.068850Z",
     "shell.execute_reply.started": "2021-10-15T05:18:34.055469Z"
    }
   },
   "outputs": [
    {
     "data": {
      "text/plain": [
       "device(type='cpu')"
      ]
     },
     "execution_count": 12,
     "metadata": {},
     "output_type": "execute_result"
    }
   ],
   "source": [
    "device"
   ]
  },
  {
   "cell_type": "code",
   "execution_count": 13,
   "metadata": {
    "execution": {
     "iopub.execute_input": "2021-10-15T05:18:34.070247Z",
     "iopub.status.busy": "2021-10-15T05:18:34.070069Z",
     "iopub.status.idle": "2021-10-15T05:18:34.081854Z",
     "shell.execute_reply": "2021-10-15T05:18:34.078670Z",
     "shell.execute_reply.started": "2021-10-15T05:18:34.070217Z"
    }
   },
   "outputs": [],
   "source": [
    "def train():\n",
    "    model.train()\n",
    "    optimizer.zero_grad()\n",
    "    F.nll_loss(model()[data.train_mask], data.y[data.train_mask]).backward()\n",
    "    optimizer.step()\n",
    "\n",
    "\n",
    "def test():\n",
    "    model.eval()\n",
    "    logits, accs = model(), []\n",
    "    for _, mask in data('train_mask', 'val_mask', 'test_mask'):\n",
    "        pred = logits[mask].max(1)[1]\n",
    "        acc = pred.eq(data.y[mask]).sum().item() / mask.sum().item()\n",
    "        accs.append(acc)\n",
    "    return accs"
   ]
  },
  {
   "cell_type": "code",
   "execution_count": 14,
   "metadata": {
    "execution": {
     "iopub.execute_input": "2021-10-15T05:18:34.083057Z",
     "iopub.status.busy": "2021-10-15T05:18:34.082785Z",
     "iopub.status.idle": "2021-10-15T05:18:43.731280Z",
     "shell.execute_reply": "2021-10-15T05:18:43.730849Z",
     "shell.execute_reply.started": "2021-10-15T05:18:34.083025Z"
    }
   },
   "outputs": [
    {
     "name": "stdout",
     "output_type": "stream",
     "text": [
      "Epoch: 001, Train: 0.9929, Val: 0.5000, Test: 0.5160\n",
      "Epoch: 002, Train: 1.0000, Val: 0.6280, Test: 0.6350\n",
      "Epoch: 003, Train: 1.0000, Val: 0.6940, Test: 0.7010\n",
      "Epoch: 004, Train: 1.0000, Val: 0.7180, Test: 0.7230\n",
      "...\n",
      "Epoch: 010, Train: 1.0000, Val: 0.7300, Test: 0.7190\n",
      "Epoch: 020, Train: 1.0000, Val: 0.7300, Test: 0.7190\n",
      "Early stop!\n"
     ]
    }
   ],
   "source": [
    "best_val_acc = test_acc = 0\n",
    "cnt_early_stop = 0\n",
    "for epoch in range(1,100):\n",
    "    train()\n",
    "    train_acc, val_acc, tmp_test_acc = test()\n",
    "    if val_acc > best_val_acc:\n",
    "        best_val_acc = val_acc\n",
    "        test_acc = tmp_test_acc\n",
    "    elif test_acc > 0:\n",
    "        cnt_early_stop += 1\n",
    "        if cnt_early_stop > 20:\n",
    "            print(\"Early stop!\")\n",
    "            break\n",
    "    log = 'Epoch: {:03d}, Train: {:.4f}, Val: {:.4f}, Test: {:.4f}'\n",
    "    \n",
    "    if epoch < 5 or epoch % 10 == 0:\n",
    "        print(log.format(epoch, train_acc, best_val_acc, test_acc))\n",
    "        if epoch == 4:\n",
    "            print(\"...\")"
   ]
  },
  {
   "cell_type": "markdown",
   "metadata": {},
   "source": [
    "## Review\n",
    "\n",
    "\n",
    "Q. Why valid and test accuracies are not increased as large as train accuracy?\n",
    "\n",
    "This is because the ratio of train dataset is too small than others (valid, test datasets)."
   ]
  },
  {
   "cell_type": "code",
   "execution_count": 15,
   "metadata": {
    "execution": {
     "iopub.execute_input": "2021-10-15T05:18:43.732372Z",
     "iopub.status.busy": "2021-10-15T05:18:43.732154Z",
     "iopub.status.idle": "2021-10-15T05:18:43.769401Z",
     "shell.execute_reply": "2021-10-15T05:18:43.768918Z",
     "shell.execute_reply.started": "2021-10-15T05:18:43.732338Z"
    },
    "tags": []
   },
   "outputs": [
    {
     "name": "stdout",
     "output_type": "stream",
     "text": [
      "Ratio of split[%]: train(5.170) valid(18.464) test(36.928)\n"
     ]
    }
   ],
   "source": [
    "percent = np.array([sum(data.train_mask).item(), sum(data.val_mask).item(), sum(data.test_mask).item()]) / data.num_nodes * 100\n",
    "print(f\"Ratio of split[%]: train({percent[0]:.3f}) valid({percent[1]:.3f}) test({percent[2]:.3f})\")"
   ]
  },
  {
   "cell_type": "markdown",
   "metadata": {},
   "source": [
    "Only 5% of dataset (train) induces 70% of accuracy for val and test datasets.\n",
    "\n",
    "The above results shows that inductive method is operated well. "
   ]
  }
 ],
 "metadata": {
  "kernelspec": {
   "display_name": "pyg",
   "language": "python",
   "name": "pyg"
  },
  "language_info": {
   "codemirror_mode": {
    "name": "ipython",
    "version": 3
   },
   "file_extension": ".py",
   "mimetype": "text/x-python",
   "name": "python",
   "nbconvert_exporter": "python",
   "pygments_lexer": "ipython3",
   "version": "3.8.11"
  }
 },
 "nbformat": 4,
 "nbformat_minor": 4
}
